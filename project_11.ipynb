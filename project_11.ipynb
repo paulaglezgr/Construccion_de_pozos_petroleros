{
 "cells": [
  {
   "cell_type": "markdown",
   "metadata": {},
   "source": [
    "# Descripción del proyecto\n",
    "\n",
    "Trabajas en la compañía de extracción de petróleo OilyGiant. Tu tarea es encontrar los mejores lugares donde abrir 200 pozos nuevos de petróleo.\n",
    "\n",
    "Para completar esta tarea, tendrás que realizar los siguientes pasos:\n",
    "\n",
    "* Leer los archivos con los parámetros recogidos de pozos petrolíferos en la región seleccionada: calidad de crudo y volumen de reservas.\n",
    "* Crear un modelo para predecir el volumen de reservas en pozos nuevos.\n",
    "* Elegir los pozos petrolíferos que tienen los valores estimados más altos.\n",
    "* Elegir la región con el beneficio total más alto para los pozos petrolíferos seleccionados.\n",
    "\n",
    "Tienes datos sobre muestras de crudo de tres regiones. Ya se conocen los parámetros de cada pozo petrolero de la región. Crea un modelo que ayude a elegir la región con el mayor margen de beneficio. Analiza los beneficios y riesgos potenciales utilizando la técnica bootstrapping.\n",
    "\n",
    "\n",
    "**CONDICIONES**\n",
    "\n",
    "* Solo se debe usar la regresión lineal para el entrenamiento del modelo.\n",
    "* Al explorar la región, se lleva a cabo un estudio de 500 puntos con la selección de los mejores 200 puntos para el cálculo del beneficio.\n",
    "* El presupuesto para el desarrollo de 200 pozos petroleros es de 100 millones de dólares.\n",
    "* Un barril de materias primas genera 4.5 USD de ingresos. El ingreso de una unidad de producto es de 4500 dólares (el volumen de reservas está expresado en miles de barriles).\n",
    "* Después de la evaluación de riesgo, mantén solo las regiones con riesgo de pérdidas inferior al 2.5%. De las que se ajustan a los criterios, se debe seleccionar la región con el beneficio promedio más alto.\n",
    "\n",
    "Los datos son sintéticos: los detalles del contrato y las características del pozo no se publican.\n",
    "\n",
    "## Descripción de datos\n",
    "\n",
    "Los datos de exploración geológica de las tres regiones se almacenan en archivos:\n",
    "\n",
    "* `/datasets/geo_data_0.csv`\n",
    "* `/datasets/geo_data_1.csv`\n",
    "* `/datasets/geo_data_2.csv`\n",
    "  \n",
    "**Características**\n",
    "* `id` — identificador único de pozo de petróleo\n",
    "* `f0`, `f1`, `f2` — tres características de los puntos (su significado específico no es importante, pero las características en sí son significativas)\n",
    "\n",
    "**Objetivo**\n",
    "* `product` — volumen de reservas en el pozo de petróleo (miles de barriles).\n"
   ]
  },
  {
   "cell_type": "markdown",
   "metadata": {},
   "source": [
    "## Inicialización"
   ]
  },
  {
   "cell_type": "code",
   "execution_count": 26,
   "metadata": {},
   "outputs": [],
   "source": [
    "# Cargar todas las librerías\n",
    "import pandas as pd\n",
    "import matplotlib.pyplot as plt\n",
    "import numpy as np\n",
    "from sklearn.model_selection import train_test_split #\n",
    "from sklearn.linear_model import LinearRegression\n",
    "from sklearn.preprocessing import StandardScaler #\n",
    "from sklearn.metrics import mean_squared_error\n",
    "from sklearn.utils import shuffle"
   ]
  },
  {
   "cell_type": "markdown",
   "metadata": {},
   "source": [
    "## Importar archivos"
   ]
  },
  {
   "cell_type": "markdown",
   "metadata": {},
   "source": [
    "### Geo Data 0"
   ]
  },
  {
   "cell_type": "code",
   "execution_count": 27,
   "metadata": {},
   "outputs": [
    {
     "name": "stdout",
     "output_type": "stream",
     "text": [
      "Duplicados : 0\n",
      "\n",
      "<class 'pandas.core.frame.DataFrame'>\n",
      "RangeIndex: 100000 entries, 0 to 99999\n",
      "Data columns (total 5 columns):\n",
      " #   Column   Non-Null Count   Dtype  \n",
      "---  ------   --------------   -----  \n",
      " 0   id       100000 non-null  object \n",
      " 1   f0       100000 non-null  float64\n",
      " 2   f1       100000 non-null  float64\n",
      " 3   f2       100000 non-null  float64\n",
      " 4   product  100000 non-null  float64\n",
      "dtypes: float64(4), object(1)\n",
      "memory usage: 3.8+ MB\n"
     ]
    },
    {
     "data": {
      "text/html": [
       "<div>\n",
       "<style scoped>\n",
       "    .dataframe tbody tr th:only-of-type {\n",
       "        vertical-align: middle;\n",
       "    }\n",
       "\n",
       "    .dataframe tbody tr th {\n",
       "        vertical-align: top;\n",
       "    }\n",
       "\n",
       "    .dataframe thead th {\n",
       "        text-align: right;\n",
       "    }\n",
       "</style>\n",
       "<table border=\"1\" class=\"dataframe\">\n",
       "  <thead>\n",
       "    <tr style=\"text-align: right;\">\n",
       "      <th></th>\n",
       "      <th>id</th>\n",
       "      <th>f0</th>\n",
       "      <th>f1</th>\n",
       "      <th>f2</th>\n",
       "      <th>product</th>\n",
       "    </tr>\n",
       "  </thead>\n",
       "  <tbody>\n",
       "    <tr>\n",
       "      <th>0</th>\n",
       "      <td>txEyH</td>\n",
       "      <td>0.705745</td>\n",
       "      <td>-0.497823</td>\n",
       "      <td>1.221170</td>\n",
       "      <td>105.280062</td>\n",
       "    </tr>\n",
       "    <tr>\n",
       "      <th>1</th>\n",
       "      <td>2acmU</td>\n",
       "      <td>1.334711</td>\n",
       "      <td>-0.340164</td>\n",
       "      <td>4.365080</td>\n",
       "      <td>73.037750</td>\n",
       "    </tr>\n",
       "    <tr>\n",
       "      <th>2</th>\n",
       "      <td>409Wp</td>\n",
       "      <td>1.022732</td>\n",
       "      <td>0.151990</td>\n",
       "      <td>1.419926</td>\n",
       "      <td>85.265647</td>\n",
       "    </tr>\n",
       "    <tr>\n",
       "      <th>3</th>\n",
       "      <td>iJLyR</td>\n",
       "      <td>-0.032172</td>\n",
       "      <td>0.139033</td>\n",
       "      <td>2.978566</td>\n",
       "      <td>168.620776</td>\n",
       "    </tr>\n",
       "    <tr>\n",
       "      <th>4</th>\n",
       "      <td>Xdl7t</td>\n",
       "      <td>1.988431</td>\n",
       "      <td>0.155413</td>\n",
       "      <td>4.751769</td>\n",
       "      <td>154.036647</td>\n",
       "    </tr>\n",
       "    <tr>\n",
       "      <th>...</th>\n",
       "      <td>...</td>\n",
       "      <td>...</td>\n",
       "      <td>...</td>\n",
       "      <td>...</td>\n",
       "      <td>...</td>\n",
       "    </tr>\n",
       "    <tr>\n",
       "      <th>99995</th>\n",
       "      <td>DLsed</td>\n",
       "      <td>0.971957</td>\n",
       "      <td>0.370953</td>\n",
       "      <td>6.075346</td>\n",
       "      <td>110.744026</td>\n",
       "    </tr>\n",
       "    <tr>\n",
       "      <th>99996</th>\n",
       "      <td>QKivN</td>\n",
       "      <td>1.392429</td>\n",
       "      <td>-0.382606</td>\n",
       "      <td>1.273912</td>\n",
       "      <td>122.346843</td>\n",
       "    </tr>\n",
       "    <tr>\n",
       "      <th>99997</th>\n",
       "      <td>3rnvd</td>\n",
       "      <td>1.029585</td>\n",
       "      <td>0.018787</td>\n",
       "      <td>-1.348308</td>\n",
       "      <td>64.375443</td>\n",
       "    </tr>\n",
       "    <tr>\n",
       "      <th>99998</th>\n",
       "      <td>7kl59</td>\n",
       "      <td>0.998163</td>\n",
       "      <td>-0.528582</td>\n",
       "      <td>1.583869</td>\n",
       "      <td>74.040764</td>\n",
       "    </tr>\n",
       "    <tr>\n",
       "      <th>99999</th>\n",
       "      <td>1CWhH</td>\n",
       "      <td>1.764754</td>\n",
       "      <td>-0.266417</td>\n",
       "      <td>5.722849</td>\n",
       "      <td>149.633246</td>\n",
       "    </tr>\n",
       "  </tbody>\n",
       "</table>\n",
       "<p>100000 rows × 5 columns</p>\n",
       "</div>"
      ],
      "text/plain": [
       "          id        f0        f1        f2     product\n",
       "0      txEyH  0.705745 -0.497823  1.221170  105.280062\n",
       "1      2acmU  1.334711 -0.340164  4.365080   73.037750\n",
       "2      409Wp  1.022732  0.151990  1.419926   85.265647\n",
       "3      iJLyR -0.032172  0.139033  2.978566  168.620776\n",
       "4      Xdl7t  1.988431  0.155413  4.751769  154.036647\n",
       "...      ...       ...       ...       ...         ...\n",
       "99995  DLsed  0.971957  0.370953  6.075346  110.744026\n",
       "99996  QKivN  1.392429 -0.382606  1.273912  122.346843\n",
       "99997  3rnvd  1.029585  0.018787 -1.348308   64.375443\n",
       "99998  7kl59  0.998163 -0.528582  1.583869   74.040764\n",
       "99999  1CWhH  1.764754 -0.266417  5.722849  149.633246\n",
       "\n",
       "[100000 rows x 5 columns]"
      ]
     },
     "execution_count": 27,
     "metadata": {},
     "output_type": "execute_result"
    }
   ],
   "source": [
    "geo_0 = pd.read_csv('/datasets/geo_data_0.csv')\n",
    "\n",
    "print(f'Duplicados : {geo_0.duplicated().sum()}\\n')\n",
    "geo_0.info()\n",
    "geo_0"
   ]
  },
  {
   "cell_type": "markdown",
   "metadata": {},
   "source": [
    "### Geo Data 1"
   ]
  },
  {
   "cell_type": "code",
   "execution_count": 28,
   "metadata": {},
   "outputs": [
    {
     "name": "stdout",
     "output_type": "stream",
     "text": [
      "Duplicados : 0\n",
      "\n",
      "<class 'pandas.core.frame.DataFrame'>\n",
      "RangeIndex: 100000 entries, 0 to 99999\n",
      "Data columns (total 5 columns):\n",
      " #   Column   Non-Null Count   Dtype  \n",
      "---  ------   --------------   -----  \n",
      " 0   id       100000 non-null  object \n",
      " 1   f0       100000 non-null  float64\n",
      " 2   f1       100000 non-null  float64\n",
      " 3   f2       100000 non-null  float64\n",
      " 4   product  100000 non-null  float64\n",
      "dtypes: float64(4), object(1)\n",
      "memory usage: 3.8+ MB\n"
     ]
    },
    {
     "data": {
      "text/html": [
       "<div>\n",
       "<style scoped>\n",
       "    .dataframe tbody tr th:only-of-type {\n",
       "        vertical-align: middle;\n",
       "    }\n",
       "\n",
       "    .dataframe tbody tr th {\n",
       "        vertical-align: top;\n",
       "    }\n",
       "\n",
       "    .dataframe thead th {\n",
       "        text-align: right;\n",
       "    }\n",
       "</style>\n",
       "<table border=\"1\" class=\"dataframe\">\n",
       "  <thead>\n",
       "    <tr style=\"text-align: right;\">\n",
       "      <th></th>\n",
       "      <th>id</th>\n",
       "      <th>f0</th>\n",
       "      <th>f1</th>\n",
       "      <th>f2</th>\n",
       "      <th>product</th>\n",
       "    </tr>\n",
       "  </thead>\n",
       "  <tbody>\n",
       "    <tr>\n",
       "      <th>0</th>\n",
       "      <td>kBEdx</td>\n",
       "      <td>-15.001348</td>\n",
       "      <td>-8.276000</td>\n",
       "      <td>-0.005876</td>\n",
       "      <td>3.179103</td>\n",
       "    </tr>\n",
       "    <tr>\n",
       "      <th>1</th>\n",
       "      <td>62mP7</td>\n",
       "      <td>14.272088</td>\n",
       "      <td>-3.475083</td>\n",
       "      <td>0.999183</td>\n",
       "      <td>26.953261</td>\n",
       "    </tr>\n",
       "    <tr>\n",
       "      <th>2</th>\n",
       "      <td>vyE1P</td>\n",
       "      <td>6.263187</td>\n",
       "      <td>-5.948386</td>\n",
       "      <td>5.001160</td>\n",
       "      <td>134.766305</td>\n",
       "    </tr>\n",
       "    <tr>\n",
       "      <th>3</th>\n",
       "      <td>KcrkZ</td>\n",
       "      <td>-13.081196</td>\n",
       "      <td>-11.506057</td>\n",
       "      <td>4.999415</td>\n",
       "      <td>137.945408</td>\n",
       "    </tr>\n",
       "    <tr>\n",
       "      <th>4</th>\n",
       "      <td>AHL4O</td>\n",
       "      <td>12.702195</td>\n",
       "      <td>-8.147433</td>\n",
       "      <td>5.004363</td>\n",
       "      <td>134.766305</td>\n",
       "    </tr>\n",
       "    <tr>\n",
       "      <th>...</th>\n",
       "      <td>...</td>\n",
       "      <td>...</td>\n",
       "      <td>...</td>\n",
       "      <td>...</td>\n",
       "      <td>...</td>\n",
       "    </tr>\n",
       "    <tr>\n",
       "      <th>99995</th>\n",
       "      <td>QywKC</td>\n",
       "      <td>9.535637</td>\n",
       "      <td>-6.878139</td>\n",
       "      <td>1.998296</td>\n",
       "      <td>53.906522</td>\n",
       "    </tr>\n",
       "    <tr>\n",
       "      <th>99996</th>\n",
       "      <td>ptvty</td>\n",
       "      <td>-10.160631</td>\n",
       "      <td>-12.558096</td>\n",
       "      <td>5.005581</td>\n",
       "      <td>137.945408</td>\n",
       "    </tr>\n",
       "    <tr>\n",
       "      <th>99997</th>\n",
       "      <td>09gWa</td>\n",
       "      <td>-7.378891</td>\n",
       "      <td>-3.084104</td>\n",
       "      <td>4.998651</td>\n",
       "      <td>137.945408</td>\n",
       "    </tr>\n",
       "    <tr>\n",
       "      <th>99998</th>\n",
       "      <td>rqwUm</td>\n",
       "      <td>0.665714</td>\n",
       "      <td>-6.152593</td>\n",
       "      <td>1.000146</td>\n",
       "      <td>30.132364</td>\n",
       "    </tr>\n",
       "    <tr>\n",
       "      <th>99999</th>\n",
       "      <td>relB0</td>\n",
       "      <td>-3.426139</td>\n",
       "      <td>-7.794274</td>\n",
       "      <td>-0.003299</td>\n",
       "      <td>3.179103</td>\n",
       "    </tr>\n",
       "  </tbody>\n",
       "</table>\n",
       "<p>100000 rows × 5 columns</p>\n",
       "</div>"
      ],
      "text/plain": [
       "          id         f0         f1        f2     product\n",
       "0      kBEdx -15.001348  -8.276000 -0.005876    3.179103\n",
       "1      62mP7  14.272088  -3.475083  0.999183   26.953261\n",
       "2      vyE1P   6.263187  -5.948386  5.001160  134.766305\n",
       "3      KcrkZ -13.081196 -11.506057  4.999415  137.945408\n",
       "4      AHL4O  12.702195  -8.147433  5.004363  134.766305\n",
       "...      ...        ...        ...       ...         ...\n",
       "99995  QywKC   9.535637  -6.878139  1.998296   53.906522\n",
       "99996  ptvty -10.160631 -12.558096  5.005581  137.945408\n",
       "99997  09gWa  -7.378891  -3.084104  4.998651  137.945408\n",
       "99998  rqwUm   0.665714  -6.152593  1.000146   30.132364\n",
       "99999  relB0  -3.426139  -7.794274 -0.003299    3.179103\n",
       "\n",
       "[100000 rows x 5 columns]"
      ]
     },
     "execution_count": 28,
     "metadata": {},
     "output_type": "execute_result"
    }
   ],
   "source": [
    "geo_1 = pd.read_csv('/datasets/geo_data_1.csv')\n",
    "\n",
    "print(f'Duplicados : {geo_1.duplicated().sum()}\\n')\n",
    "geo_1.info()\n",
    "geo_1"
   ]
  },
  {
   "cell_type": "markdown",
   "metadata": {},
   "source": [
    "### Geo Data 2"
   ]
  },
  {
   "cell_type": "code",
   "execution_count": 29,
   "metadata": {},
   "outputs": [
    {
     "name": "stdout",
     "output_type": "stream",
     "text": [
      "Duplicados : 0\n",
      "\n",
      "<class 'pandas.core.frame.DataFrame'>\n",
      "RangeIndex: 100000 entries, 0 to 99999\n",
      "Data columns (total 5 columns):\n",
      " #   Column   Non-Null Count   Dtype  \n",
      "---  ------   --------------   -----  \n",
      " 0   id       100000 non-null  object \n",
      " 1   f0       100000 non-null  float64\n",
      " 2   f1       100000 non-null  float64\n",
      " 3   f2       100000 non-null  float64\n",
      " 4   product  100000 non-null  float64\n",
      "dtypes: float64(4), object(1)\n",
      "memory usage: 3.8+ MB\n"
     ]
    },
    {
     "data": {
      "text/html": [
       "<div>\n",
       "<style scoped>\n",
       "    .dataframe tbody tr th:only-of-type {\n",
       "        vertical-align: middle;\n",
       "    }\n",
       "\n",
       "    .dataframe tbody tr th {\n",
       "        vertical-align: top;\n",
       "    }\n",
       "\n",
       "    .dataframe thead th {\n",
       "        text-align: right;\n",
       "    }\n",
       "</style>\n",
       "<table border=\"1\" class=\"dataframe\">\n",
       "  <thead>\n",
       "    <tr style=\"text-align: right;\">\n",
       "      <th></th>\n",
       "      <th>id</th>\n",
       "      <th>f0</th>\n",
       "      <th>f1</th>\n",
       "      <th>f2</th>\n",
       "      <th>product</th>\n",
       "    </tr>\n",
       "  </thead>\n",
       "  <tbody>\n",
       "    <tr>\n",
       "      <th>0</th>\n",
       "      <td>fwXo0</td>\n",
       "      <td>-1.146987</td>\n",
       "      <td>0.963328</td>\n",
       "      <td>-0.828965</td>\n",
       "      <td>27.758673</td>\n",
       "    </tr>\n",
       "    <tr>\n",
       "      <th>1</th>\n",
       "      <td>WJtFt</td>\n",
       "      <td>0.262778</td>\n",
       "      <td>0.269839</td>\n",
       "      <td>-2.530187</td>\n",
       "      <td>56.069697</td>\n",
       "    </tr>\n",
       "    <tr>\n",
       "      <th>2</th>\n",
       "      <td>ovLUW</td>\n",
       "      <td>0.194587</td>\n",
       "      <td>0.289035</td>\n",
       "      <td>-5.586433</td>\n",
       "      <td>62.871910</td>\n",
       "    </tr>\n",
       "    <tr>\n",
       "      <th>3</th>\n",
       "      <td>q6cA6</td>\n",
       "      <td>2.236060</td>\n",
       "      <td>-0.553760</td>\n",
       "      <td>0.930038</td>\n",
       "      <td>114.572842</td>\n",
       "    </tr>\n",
       "    <tr>\n",
       "      <th>4</th>\n",
       "      <td>WPMUX</td>\n",
       "      <td>-0.515993</td>\n",
       "      <td>1.716266</td>\n",
       "      <td>5.899011</td>\n",
       "      <td>149.600746</td>\n",
       "    </tr>\n",
       "    <tr>\n",
       "      <th>...</th>\n",
       "      <td>...</td>\n",
       "      <td>...</td>\n",
       "      <td>...</td>\n",
       "      <td>...</td>\n",
       "      <td>...</td>\n",
       "    </tr>\n",
       "    <tr>\n",
       "      <th>99995</th>\n",
       "      <td>4GxBu</td>\n",
       "      <td>-1.777037</td>\n",
       "      <td>1.125220</td>\n",
       "      <td>6.263374</td>\n",
       "      <td>172.327046</td>\n",
       "    </tr>\n",
       "    <tr>\n",
       "      <th>99996</th>\n",
       "      <td>YKFjq</td>\n",
       "      <td>-1.261523</td>\n",
       "      <td>-0.894828</td>\n",
       "      <td>2.524545</td>\n",
       "      <td>138.748846</td>\n",
       "    </tr>\n",
       "    <tr>\n",
       "      <th>99997</th>\n",
       "      <td>tKPY3</td>\n",
       "      <td>-1.199934</td>\n",
       "      <td>-2.957637</td>\n",
       "      <td>5.219411</td>\n",
       "      <td>157.080080</td>\n",
       "    </tr>\n",
       "    <tr>\n",
       "      <th>99998</th>\n",
       "      <td>nmxp2</td>\n",
       "      <td>-2.419896</td>\n",
       "      <td>2.417221</td>\n",
       "      <td>-5.548444</td>\n",
       "      <td>51.795253</td>\n",
       "    </tr>\n",
       "    <tr>\n",
       "      <th>99999</th>\n",
       "      <td>V9kWn</td>\n",
       "      <td>-2.551421</td>\n",
       "      <td>-2.025625</td>\n",
       "      <td>6.090891</td>\n",
       "      <td>102.775767</td>\n",
       "    </tr>\n",
       "  </tbody>\n",
       "</table>\n",
       "<p>100000 rows × 5 columns</p>\n",
       "</div>"
      ],
      "text/plain": [
       "          id        f0        f1        f2     product\n",
       "0      fwXo0 -1.146987  0.963328 -0.828965   27.758673\n",
       "1      WJtFt  0.262778  0.269839 -2.530187   56.069697\n",
       "2      ovLUW  0.194587  0.289035 -5.586433   62.871910\n",
       "3      q6cA6  2.236060 -0.553760  0.930038  114.572842\n",
       "4      WPMUX -0.515993  1.716266  5.899011  149.600746\n",
       "...      ...       ...       ...       ...         ...\n",
       "99995  4GxBu -1.777037  1.125220  6.263374  172.327046\n",
       "99996  YKFjq -1.261523 -0.894828  2.524545  138.748846\n",
       "99997  tKPY3 -1.199934 -2.957637  5.219411  157.080080\n",
       "99998  nmxp2 -2.419896  2.417221 -5.548444   51.795253\n",
       "99999  V9kWn -2.551421 -2.025625  6.090891  102.775767\n",
       "\n",
       "[100000 rows x 5 columns]"
      ]
     },
     "execution_count": 29,
     "metadata": {},
     "output_type": "execute_result"
    }
   ],
   "source": [
    "geo_2 = pd.read_csv('/datasets/geo_data_2.csv')\n",
    "\n",
    "print(f'Duplicados : {geo_2.duplicated().sum()}\\n')\n",
    "geo_2.info()\n",
    "geo_2"
   ]
  },
  {
   "cell_type": "markdown",
   "metadata": {},
   "source": [
    "### Preparar los datos"
   ]
  },
  {
   "cell_type": "markdown",
   "metadata": {},
   "source": [
    "<div class=\"alert alert-block\" style=\"background-color: #eceeef; color: black;\">\n",
    "Se puede observar que no se presentan duplicados, el tipo de datos son correctos y no se presentan valores ausentes. Por lo tanto se puede continuar con el procedimiento. \n",
    "    <a class=“tocSkip”></a>\n",
    "</div>"
   ]
  },
  {
   "cell_type": "markdown",
   "metadata": {},
   "source": [
    "## Entrenamiento y evaluación del modelo `GEO DATA 0`"
   ]
  },
  {
   "cell_type": "markdown",
   "metadata": {},
   "source": [
    "### Segmentación de datos\n",
    "\n",
    "tomando como **características**\n",
    "* `id` — identificador único de pozo de petróleo\n",
    "* `f0`, `f1`, `f2` — tres características de los puntos (su significado específico no es importante, pero las características en sí son significativas)\n",
    "\n",
    "y como **objetivo**\n",
    "* `product` — volumen de reservas en el pozo de petróleo (miles de barriles)."
   ]
  },
  {
   "cell_type": "code",
   "execution_count": 30,
   "metadata": {},
   "outputs": [],
   "source": [
    "features = geo_0.drop(['id', 'product'], axis=1)\n",
    "target = geo_0['product']"
   ]
  },
  {
   "cell_type": "markdown",
   "metadata": {},
   "source": [
    "<div class=\"alert alert-block\" style=\"background-color: #eceeef; color: black;\">\n",
    "Se segmentan los datos fuente en un 75% para el entrenamiento, pues se necesita tener suficiente información para que el modelo aprenda. Un 25% para la validación, se necesita tener una muestra representativa para evaluar durante el desarrollo.\n",
    "    <a class=“tocSkip”></a>\n",
    "</div> "
   ]
  },
  {
   "cell_type": "code",
   "execution_count": 31,
   "metadata": {},
   "outputs": [],
   "source": [
    "features_train, features_valid, target_train, target_valid = train_test_split(\n",
    "    features, target, test_size=0.25, random_state=12345)"
   ]
  },
  {
   "cell_type": "code",
   "execution_count": 32,
   "metadata": {},
   "outputs": [
    {
     "name": "stdout",
     "output_type": "stream",
     "text": [
      "Porcentaje del conjunto de entrenamiento: 75.0 %\n",
      "Porcentaje del conjunto de validación: 25.0 %\n"
     ]
    }
   ],
   "source": [
    "splits = {'Entrenamiento': features_train,\n",
    "          'Validación': features_valid}\n",
    "\n",
    "total = geo_0.shape[0]\n",
    "\n",
    "for nombre, conjunto in splits.items():\n",
    "    porcentaje = 100 * len(conjunto) / total\n",
    "    print(f'Porcentaje del conjunto de {nombre.lower()}: {porcentaje:.1f} %')"
   ]
  },
  {
   "cell_type": "markdown",
   "metadata": {},
   "source": [
    "### Escalado de características"
   ]
  },
  {
   "cell_type": "code",
   "execution_count": 33,
   "metadata": {},
   "outputs": [
    {
     "data": {
      "text/html": [
       "<div>\n",
       "<style scoped>\n",
       "    .dataframe tbody tr th:only-of-type {\n",
       "        vertical-align: middle;\n",
       "    }\n",
       "\n",
       "    .dataframe tbody tr th {\n",
       "        vertical-align: top;\n",
       "    }\n",
       "\n",
       "    .dataframe thead th {\n",
       "        text-align: right;\n",
       "    }\n",
       "</style>\n",
       "<table border=\"1\" class=\"dataframe\">\n",
       "  <thead>\n",
       "    <tr style=\"text-align: right;\">\n",
       "      <th></th>\n",
       "      <th>f0</th>\n",
       "      <th>f1</th>\n",
       "      <th>f2</th>\n",
       "    </tr>\n",
       "  </thead>\n",
       "  <tbody>\n",
       "    <tr>\n",
       "      <th>27212</th>\n",
       "      <td>-0.544828</td>\n",
       "      <td>1.390264</td>\n",
       "      <td>-0.094959</td>\n",
       "    </tr>\n",
       "    <tr>\n",
       "      <th>7866</th>\n",
       "      <td>1.455912</td>\n",
       "      <td>-0.480422</td>\n",
       "      <td>1.209567</td>\n",
       "    </tr>\n",
       "    <tr>\n",
       "      <th>62041</th>\n",
       "      <td>0.260460</td>\n",
       "      <td>0.825069</td>\n",
       "      <td>-0.204865</td>\n",
       "    </tr>\n",
       "    <tr>\n",
       "      <th>70185</th>\n",
       "      <td>-1.837105</td>\n",
       "      <td>0.010321</td>\n",
       "      <td>-0.147634</td>\n",
       "    </tr>\n",
       "    <tr>\n",
       "      <th>82230</th>\n",
       "      <td>-1.299243</td>\n",
       "      <td>0.987558</td>\n",
       "      <td>1.273181</td>\n",
       "    </tr>\n",
       "  </tbody>\n",
       "</table>\n",
       "</div>"
      ],
      "text/plain": [
       "             f0        f1        f2\n",
       "27212 -0.544828  1.390264 -0.094959\n",
       "7866   1.455912 -0.480422  1.209567\n",
       "62041  0.260460  0.825069 -0.204865\n",
       "70185 -1.837105  0.010321 -0.147634\n",
       "82230 -1.299243  0.987558  1.273181"
      ]
     },
     "execution_count": 33,
     "metadata": {},
     "output_type": "execute_result"
    }
   ],
   "source": [
    "numeric = ['f0', 'f1', 'f2']\n",
    "\n",
    "features_train = features_train.copy()\n",
    "features_valid = features_valid.copy()\n",
    "\n",
    "scaler = StandardScaler()\n",
    "\n",
    "features_train[numeric] = scaler.fit_transform(features_train[numeric])\n",
    "features_valid[numeric] = scaler.transform(features_valid[numeric])\n",
    "\n",
    "features_train.head()"
   ]
  },
  {
   "cell_type": "markdown",
   "metadata": {},
   "source": [
    "### Entrenamiento del modelo"
   ]
  },
  {
   "cell_type": "code",
   "execution_count": 34,
   "metadata": {},
   "outputs": [],
   "source": [
    "model = LinearRegression()\n",
    "\n",
    "model.fit(features_train, target_train)\n",
    "predictions = model.predict(features_valid)"
   ]
  },
  {
   "cell_type": "code",
   "execution_count": 35,
   "metadata": {},
   "outputs": [
    {
     "name": "stdout",
     "output_type": "stream",
     "text": [
      "RMSE para el modelo de Regresión Lineal en el conjunto de validación: 37.5794\n",
      "\n",
      "El volumen medio de reservas predicho: 92.5926\n"
     ]
    }
   ],
   "source": [
    "rmse = mean_squared_error(target_valid, predictions, squared=False)\n",
    "print(f'RMSE para el modelo de Regresión Lineal en el conjunto de validación: {rmse:.4f}\\n')\n",
    "print(f'El volumen medio de reservas predicho: {predictions.mean():.4f}')"
   ]
  },
  {
   "cell_type": "markdown",
   "metadata": {},
   "source": [
    "## Entrenamiento y evaluación de los modelos"
   ]
  },
  {
   "cell_type": "code",
   "execution_count": 36,
   "metadata": {},
   "outputs": [],
   "source": [
    "def reserves(geo_data, test_size=0.25, random_state=12345):\n",
    "    # Segmentación de datos\n",
    "    features = geo_data.drop(['id', 'product'], axis=1)\n",
    "    target = geo_data['product']\n",
    "    features_train, features_valid, target_train, target_valid = train_test_split(\n",
    "    features, target, test_size=test_size, random_state=random_state)\n",
    "\n",
    "    # Escalado de características\n",
    "    numeric = ['f0', 'f1', 'f2']\n",
    "    features_train = features_train.copy()\n",
    "    features_valid = features_valid.copy()\n",
    "    scaler = StandardScaler()\n",
    "    features_train[numeric] = scaler.fit_transform(features_train[numeric])\n",
    "    features_valid[numeric] = scaler.transform(features_valid[numeric])\n",
    "\n",
    "    # Entrenamiento del modelo\n",
    "    model = LinearRegression()\n",
    "    model.fit(features_train, target_train)\n",
    "    predictions = pd.Series(model.predict(features_valid))\n",
    "    rmse = mean_squared_error(target_valid, predictions, squared=False)\n",
    "    volume = predictions.mean()\n",
    "    target_valid = target_valid.reset_index(drop=True)\n",
    "    \n",
    "    return target_valid, predictions, rmse, volume"
   ]
  },
  {
   "cell_type": "markdown",
   "metadata": {},
   "source": [
    "### Geo Data 0"
   ]
  },
  {
   "cell_type": "code",
   "execution_count": 37,
   "metadata": {},
   "outputs": [
    {
     "name": "stdout",
     "output_type": "stream",
     "text": [
      "RMSE para el modelo de Regresión Lineal en el conjunto de validación: 37.5794\n",
      "\n",
      "El volumen medio de reservas predicho: 92.5926\n"
     ]
    }
   ],
   "source": [
    "target_valid_0, predictions_0, rmse_0, volume_0 = reserves(geo_0)\n",
    "\n",
    "print(f'RMSE para el modelo de Regresión Lineal en el conjunto de validación: {rmse_0:.4f}\\n')\n",
    "print(f'El volumen medio de reservas predicho: {predictions_0.mean():.4f}')"
   ]
  },
  {
   "cell_type": "markdown",
   "metadata": {},
   "source": [
    "### Geo Data 1"
   ]
  },
  {
   "cell_type": "code",
   "execution_count": 38,
   "metadata": {},
   "outputs": [
    {
     "name": "stdout",
     "output_type": "stream",
     "text": [
      "RMSE para el modelo de Regresión Lineal en el conjunto de validación: 0.8931\n",
      "\n",
      "El volumen medio de reservas predicho: 68.7285\n"
     ]
    }
   ],
   "source": [
    "target_valid_1, predictions_1, rmse_1, volume_1 = reserves(geo_1)\n",
    "\n",
    "print(f'RMSE para el modelo de Regresión Lineal en el conjunto de validación: {rmse_1:.4f}\\n')\n",
    "print(f'El volumen medio de reservas predicho: {predictions_1.mean():.4f}')"
   ]
  },
  {
   "cell_type": "markdown",
   "metadata": {},
   "source": [
    "### Geo Data 2"
   ]
  },
  {
   "cell_type": "code",
   "execution_count": 39,
   "metadata": {},
   "outputs": [
    {
     "name": "stdout",
     "output_type": "stream",
     "text": [
      "RMSE para el modelo de Regresión Lineal en el conjunto de validación: 40.0297\n",
      "\n",
      "El volumen medio de reservas predicho: 94.9650\n"
     ]
    }
   ],
   "source": [
    "target_valid_2, predictions_2, rmse_2, volume_2 = reserves(geo_2)\n",
    "\n",
    "print(f'RMSE para el modelo de Regresión Lineal en el conjunto de validación: {rmse_2:.4f}\\n')\n",
    "print(f'El volumen medio de reservas predicho: {predictions_2.mean():.4f}')"
   ]
  },
  {
   "cell_type": "markdown",
   "metadata": {},
   "source": [
    "<div class=\"alert alert-block\" style=\"background-color: #eceeef; color: black;\">\n",
    "    \n",
    "La región 1 tiele el modelo más preciso, pero su volumen predicho está muy por debajo, aproximadamente a la mitad (68.72) del umbral rentable (111.1).\n",
    "\n",
    "La región 0 y la región 2, tiene modelos menos precisos con valores similares de rsme (37.58 y 40.03 respectivamente), pero predicen el mayor volumen. En este caso, lo más importante es el volumen esperado, por lo que se selecciona la región 2, ya que es la que cuenta con el mayor volumen (94.96).\n",
    "    <a class=“tocSkip”></a>\n",
    "</div>"
   ]
  },
  {
   "cell_type": "markdown",
   "metadata": {},
   "source": [
    "## Cálculo de ganancias"
   ]
  },
  {
   "cell_type": "markdown",
   "metadata": {},
   "source": [
    "<div class=\"alert alert-block\" style=\"background-color: #eceeef; color: black;\">\n",
    "    \n",
    "Dada la inversión de 100 millones por 200 pozos petrolíferos, de media un pozo petrolífero debe producir al menos un valor de 500,000 dólares en unidades para evitar pérdidas, esto es equivalente a <b>111.1 unidades</b>.\n",
    "\n",
    "La región 2 tiene el mayor volumen medio de reservas predicho de las 3 regiones, aunque sigue siendo inferior al esperado para evitar pérdidas. Aparentemente, es la región recomendada para el desarrollo de los pozos petroleros.\n",
    "\n",
    "Con el fin de dar un mejor resultado, se seleccionarán los mejores 200 pozos petroleros de cada región y se calcularán las ganancias y beneficios.\n",
    "    <a class=“tocSkip”></a>\n",
    "</div>"
   ]
  },
  {
   "cell_type": "code",
   "execution_count": 40,
   "metadata": {},
   "outputs": [
    {
     "name": "stdout",
     "output_type": "stream",
     "text": [
      "Cantidad mínima requerida por pozo: 111.1\n"
     ]
    }
   ],
   "source": [
    "investment = 100000000\n",
    "wells = 200\n",
    "income_per_unit = 4500\n",
    "min_income_per_well = investment / wells\n",
    "min_units_per_well = min_income_per_well/income_per_unit\n",
    "\n",
    "print(f'Cantidad mínima requerida por pozo: {min_units_per_well:.1f}')"
   ]
  },
  {
   "cell_type": "code",
   "execution_count": 41,
   "metadata": {},
   "outputs": [],
   "source": [
    "def profit(target_valid, predictions):\n",
    "    predictions = predictions.reset_index(drop=True)\n",
    "    target_valid = target_valid.reset_index(drop=True)\n",
    "    \n",
    "    top_positions = predictions.sort_values(ascending=False).head(wells).index\n",
    "    target = target_valid.iloc[top_positions]\n",
    "    \n",
    "    volume = target.sum()\n",
    "    income = target * income_per_unit\n",
    "\n",
    "    best = pd.DataFrame({'product': target, 'income': income})\n",
    "    total_income = income.sum() - investment\n",
    "    \n",
    "    return best, volume, total_income"
   ]
  },
  {
   "cell_type": "code",
   "execution_count": 42,
   "metadata": {},
   "outputs": [],
   "source": [
    "best_0, volume_0, total_income_0 = profit(target_valid_0, predictions_0)\n",
    "best_1, volume_1, total_income_1 = profit(target_valid_1, predictions_1)\n",
    "best_2, volume_2, total_income_2 = profit(target_valid_2, predictions_2)"
   ]
  },
  {
   "cell_type": "code",
   "execution_count": 43,
   "metadata": {},
   "outputs": [],
   "source": [
    "def results(regions_data):\n",
    "    best_region = max(enumerate(regions_data), key=lambda x: x[1][1])\n",
    "    \n",
    "    for i, (volume, total_income) in enumerate(regions_data):\n",
    "        print(f'  Región {i} - Ganancia potencial de los {wells} pozos principales: $ {total_income:,.2f}')\n",
    "        print(f'  Región {i} - Volumen objetivo de reserva es de {volume.mean():,.2f} miles de barriles')\n",
    "        print('-' * 80, '\\n')\n",
    "\n",
    "    i_best, (_,max_income) = best_region\n",
    "    print(f'  La Región {i_best} es la más rentable con un ingreso de $ {max_income:,.2f}\\n')"
   ]
  },
  {
   "cell_type": "code",
   "execution_count": 44,
   "metadata": {},
   "outputs": [
    {
     "name": "stdout",
     "output_type": "stream",
     "text": [
      "  Región 0 - Ganancia potencial de los 200 pozos principales: $ 33,208,260.43\n",
      "  Región 0 - Volumen objetivo de reserva es de 29,601.84 miles de barriles\n",
      "-------------------------------------------------------------------------------- \n",
      "\n",
      "  Región 1 - Ganancia potencial de los 200 pozos principales: $ 24,150,866.97\n",
      "  Región 1 - Volumen objetivo de reserva es de 27,589.08 miles de barriles\n",
      "-------------------------------------------------------------------------------- \n",
      "\n",
      "  Región 2 - Ganancia potencial de los 200 pozos principales: $ 27,103,499.64\n",
      "  Región 2 - Volumen objetivo de reserva es de 28,245.22 miles de barriles\n",
      "-------------------------------------------------------------------------------- \n",
      "\n",
      "  La Región 0 es la más rentable con un ingreso de $ 33,208,260.43\n",
      "\n"
     ]
    }
   ],
   "source": [
    "regions_data =[\n",
    "    (volume_0, total_income_0),\n",
    "    (volume_1, total_income_1),\n",
    "    (volume_2, total_income_2)]\n",
    "\n",
    "results = results(regions_data)"
   ]
  },
  {
   "cell_type": "markdown",
   "metadata": {},
   "source": [
    "<div class=\"alert alert-block\" style=\"background-color: #eceeef; color: black;\">\n",
    "En cuestión de ganancia potencial, la región 0 es la mejor para el desarrollo de pozos.\n",
    "    <a class=“tocSkip”></a>\n",
    "</div>"
   ]
  },
  {
   "cell_type": "markdown",
   "metadata": {},
   "source": [
    "## Cálculo de riesgos\n",
    "\n",
    "<div class=\"alert alert-block\" style=\"background-color: #eceeef; color: black;\">\n",
    "Se empleará la técnica de <b>bootstrapping</b> con <b>1,000</b> muestras, con un intervalo de confianza de <b>95 %</b>. Esto con el fin de obtener los riesgos y ganancias para cada región.\n",
    "    <a class=“tocSkip”></a>\n",
    "</div>"
   ]
  },
  {
   "cell_type": "code",
   "execution_count": 45,
   "metadata": {},
   "outputs": [],
   "source": [
    "def profit_bootstrapping(predictions, target_valid, interval, bootstrap_samples=1000, points=500):\n",
    "    \n",
    "    profits = []\n",
    "    state = np.random.RandomState(12345)\n",
    "    \n",
    "    for _ in range(bootstrap_samples):\n",
    "        sample_index = state.choice(len(target_valid), size=points, replace=True)\n",
    "        sample_target = target_valid.iloc[sample_index]\n",
    "        sample_predictions = predictions.iloc[sample_index]\n",
    "        \n",
    "        _, _, profit_value = profit(sample_target, sample_predictions)\n",
    "        profits.append(profit_value)\n",
    "\n",
    "    profits = pd.Series(profits)\n",
    "    mean_profits = profits.mean()\n",
    "    \n",
    "    alpha = (100 - interval) / 2\n",
    "    confidence_interval = np.percentile(profits, [alpha, 100 - alpha])\n",
    "    risk_of_lose = (profits < 0).mean() * 100\n",
    "    \n",
    "    return profits, mean_profits, confidence_interval, risk_of_lose"
   ]
  },
  {
   "cell_type": "code",
   "execution_count": 54,
   "metadata": {},
   "outputs": [],
   "source": [
    "def losses_gains(ci):\n",
    "    if ci < 0:\n",
    "        ci_text = f\"una pérdida de $ {abs(ci):,.2f} millones\"\n",
    "    else:\n",
    "        ci_text = f\"una ganancia de $ {abs(ci):,.2f} millones\"\n",
    "    return ci_text\n",
    "    \n",
    "\n",
    "def print_results(regions_data):\n",
    "\n",
    "    for i, (mean, ci, risk) in enumerate(regions_data):\n",
    "        print(f' Región {i}')\n",
    "        print(f' Promedio de ganancias: ${mean:,.2f}')\n",
    "        print(f' Con un 95% de confianza, la ganancia real estará entre {losses_gains(ci[0])} y {losses_gains(ci[1])}.')\n",
    "        print(f' Riesgo de pérdidas: {risk:.1f}%')\n",
    "        print('-' * 125, '\\n')\n",
    "    \n",
    "    filtered = [(i, data) for i, data in enumerate(regions_data) if data[2]<2.5]\n",
    "\n",
    "    if not filtered:\n",
    "        print('Ninguna región cumple con el criterio de un riesgo menor a 2.5%')\n",
    "    else:\n",
    "        best_region = max(filtered, key=lambda x: x[1][0])\n",
    "        i_best, (max_mean,_,risk_min) = best_region\n",
    "        print(f'  La Región {i_best} es la más rentable con un riesgo de {risk_min} %, con un ingreso promedio de $ {max_mean:,.2f}\\n')"
   ]
  },
  {
   "cell_type": "code",
   "execution_count": 55,
   "metadata": {},
   "outputs": [
    {
     "name": "stdout",
     "output_type": "stream",
     "text": [
      " Región 0\n",
      " Promedio de ganancias: $3,961,649.85\n",
      " Con un 95% de confianza, la ganancia real estará entre una pérdida de $ 1,112,155.46 millones y una ganancia de $ 9,097,669.42 millones.\n",
      " Riesgo de pérdidas: 6.9%\n",
      "----------------------------------------------------------------------------------------------------------------------------- \n",
      "\n",
      " Región 1\n",
      " Promedio de ganancias: $4,560,451.06\n",
      " Con un 95% de confianza, la ganancia real estará entre una ganancia de $ 338,205.09 millones y una ganancia de $ 8,522,894.54 millones.\n",
      " Riesgo de pérdidas: 1.5%\n",
      "----------------------------------------------------------------------------------------------------------------------------- \n",
      "\n",
      " Región 2\n",
      " Promedio de ganancias: $4,044,038.67\n",
      " Con un 95% de confianza, la ganancia real estará entre una pérdida de $ 1,633,504.13 millones y una ganancia de $ 9,503,595.75 millones.\n",
      " Riesgo de pérdidas: 7.6%\n",
      "----------------------------------------------------------------------------------------------------------------------------- \n",
      "\n",
      "  La Región 1 es la más rentable con un riesgo de 1.5 %, con un ingreso promedio de $ 4,560,451.06\n",
      "\n"
     ]
    }
   ],
   "source": [
    "condifence_interval = 95\n",
    "\n",
    "profits_0, mean_0, ci_0, risk_0 = profit_bootstrapping(predictions_0, target_valid_0, condifence_interval)\n",
    "profits_1, mean_1, ci_1, risk_1 = profit_bootstrapping(predictions_1, target_valid_1, condifence_interval)\n",
    "profits_2, mean_2, ci_2, risk_2 = profit_bootstrapping(predictions_2, target_valid_2, condifence_interval)\n",
    "\n",
    "regions_data =[\n",
    "    (mean_0, ci_0, risk_0),\n",
    "    (mean_1, ci_1, risk_1),\n",
    "    (mean_2, ci_2, risk_2)]\n",
    "\n",
    "results = print_results(regions_data)"
   ]
  },
  {
   "cell_type": "markdown",
   "metadata": {},
   "source": [
    "<div class=\"alert alert-block\" style=\"background-color: #eceeef; color: black;\">\n",
    "\n",
    "<b>Observaciones</b>\n",
    "    \n",
    "Al analizar únicamente el volumen medio de extracción predicho, la región 2 destaca como la mejor opción, al ser la que más se aproxima al volumen esperado, lo cual sugiere un buen desempeño en términos de cantidad de producto extraído.\n",
    "\n",
    "Sin embargo, al evaluar la ganancia neta estimada, la región más rentable es la región 0, con una ganancia potencial de \\$ 33,208,260.43, superior a la obtenida en la región 1 (\\$ 24,150,866.97) y a la región 2 (\\$ 27,103,499.64).\n",
    "\n",
    "No obstante, al aplicar la técnica bootstrapping para evaluar el riesgo asociado a las predicciones, se puede observar que tanto en la región 0 como en la región 2, el límite inferior del intervalo de confianza es negativo. Esto indica que existe una probabilidad real de <i>pérdidas</i> económicas. En efecto, el riesgo de pérdidas de la región 0 es de 6.9 %, y en la región 2, de 7.6%, ambos superiores al umbral aceptable del 2.5 % establecido en el proyecto.\n",
    "\n",
    "Por otro lado, la región 1, ofrece un equilibrio óptimo entre rentabilidad y riesgo. Presenta una ganancia media mayor y un riesgo de pérdidas de 1.5%, el cual se encuentra por debajo del límite permitido. \n",
    "\n",
    "    \n",
    "<b>Conclusión</b>\n",
    "\n",
    "Al analizar detalladamente los datos mediante la técnica de bootstrapping, la cual asegura que se tomen muestras más representativas y estables. Se puede determinar que la mejor opción para el desarrollo de los 200 pozos es la <b>Región 1</b>, debido a la ganancia media mayor de \\$ 4,560,451.06 y al bajo riesgo de pérdidas de 1.5 \\%. Con un intervalo de confianza de 95 \\% la ganancia real estará entre una ganancia de \\$ 338,205.09 y \\$ 8,522,894.54. Convirtiéndola en la opción más segura y recomendable para la inversión bajo las condiciones establecidas.\n",
    "    <a class=“tocSkip”></a>\n",
    "</div>"
   ]
  },
  {
   "cell_type": "code",
   "execution_count": null,
   "metadata": {},
   "outputs": [],
   "source": []
  }
 ],
 "metadata": {
  "kernelspec": {
   "display_name": "Python 3 (ipykernel)",
   "language": "python",
   "name": "python3"
  },
  "language_info": {
   "codemirror_mode": {
    "name": "ipython",
    "version": 3
   },
   "file_extension": ".py",
   "mimetype": "text/x-python",
   "name": "python",
   "nbconvert_exporter": "python",
   "pygments_lexer": "ipython3",
   "version": "3.9.22"
  }
 },
 "nbformat": 4,
 "nbformat_minor": 4
}
